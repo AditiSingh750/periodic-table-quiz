{
 "cells": [
  {
   "cell_type": "markdown",
   "metadata": {},
   "source": [
    "# 🧪 Periodic Table Quiz Game (Python)\n",
    "This notebook lets you play a fun 10-question quiz about elements from the periodic table. Answer each question to test your chemistry knowledge!"
   ]
  },
  {
   "cell_type": "code",
   "execution_count": 8,
   "metadata": {},
   "outputs": [],
   "source": [
    "import random\n",
    "\n"
   ]
  },
  {
   "cell_type": "code",
   "execution_count": 9,
   "metadata": {},
   "outputs": [],
   "source": [
    "# Periodic table data: {symbol: [name, atomic_number]}\n",
    "periodic_table = {\n",
    "    \"H\": [\"Hydrogen\", 1],\n",
    "    \"He\": [\"Helium\", 2],\n",
    "    \"Li\": [\"Lithium\", 3],\n",
    "    \"Be\": [\"Beryllium\", 4],\n",
    "    \"B\": [\"Boron\", 5],\n",
    "    \"C\": [\"Carbon\", 6],\n",
    "    \"N\": [\"Nitrogen\", 7],\n",
    "    \"O\": [\"Oxygen\", 8],\n",
    "    \"F\": [\"Fluorine\", 9],\n",
    "    \"Ne\": [\"Neon\", 10],\n",
    "    \"Na\": [\"Sodium\", 11],\n",
    "    \"Mg\": [\"Magnesium\", 12],\n",
    "    \"Al\": [\"Aluminum\", 13],\n",
    "    \"Si\": [\"Silicon\", 14],\n",
    "    \"P\": [\"Phosphorus\", 15],\n",
    "    \"S\": [\"Sulfur\", 16],\n",
    "    \"Cl\": [\"Chlorine\", 17],\n",
    "    \"Ar\": [\"Argon\", 18],\n",
    " \"K\": [\"Potassium\", 19],\n",
    "    \"Ca\": [\"Calcium\", 20],\n",
    "}\n"
   ]
  },
  {
   "cell_type": "code",
   "execution_count": 13,
   "metadata": {},
   "outputs": [],
   "source": [
    "# Ask a question\n",
    "def ask_question(symbol, element, atomic_number):\n",
    "    q_type = random.choice([\"name\", \"symbol\", \"atomic\"])\n",
    "    if q_type == \"name\":\n",
    "        answer = input(f\"What is the name of the element with symbol '{symbol}'? \")\n",
    "        return answer.strip().lower() == element.lower()\n",
    "    elif q_type == \"symbol\":\n",
    "        answer = input(f\"What is the symbol for the element '{element}'? \")\n",
    "        return answer.strip().capitalize() == symbol\n",
    "    elif q_type == \"atomic\":\n",
    "        answer = input(f\"What is the atomic number of '{element}'? \")\n",
    "        return answer.strip() == str(atomic_number)\n"
   ]
  },
  {
   "cell_type": "code",
   "execution_count": 14,
   "metadata": {},
   "outputs": [],
   "source": [
    "# Run the quiz\n",
    "def start_quiz():\n",
    "    print(\"🎓 Periodic Table Quiz\")\n",
    "    print(\"----------------------\")\n",
    "    questions = random.sample(list(periodic_table.items()), 10)\n",
    "    score = 0\n",
    "\n",
    "    for idx, (symbol, data) in enumerate(questions):\n",
    "        print(f\"\\nQuestion {idx + 1}:\")\n",
    "        correct = ask_question(symbol, data[0], data[1])\n",
    "        if correct:\n",
    "            print(\"✅ Correct!\")\n",
    "            score += 1\n",
    "        else:\n",
    "            print(f\"❌ Incorrect. Correct answer: {data}\")\n",
    "    \n",
    "    print(\"\\n🧪 Quiz Completed!\")\n",
    "    print(f\"Your score: {score} out of 10\")\n"
   ]
  },
  {
   "cell_type": "code",
   "execution_count": 16,
   "metadata": {},
   "outputs": [
    {
     "name": "stdout",
     "output_type": "stream",
     "text": [
      "🎓 Periodic Table Quiz\n",
      "----------------------\n",
      "\n",
      "Question 1:\n"
     ]
    },
    {
     "name": "stdin",
     "output_type": "stream",
     "text": [
      "What is the symbol for the element 'Sulfur'?  au\n"
     ]
    },
    {
     "name": "stdout",
     "output_type": "stream",
     "text": [
      "❌ Incorrect. Correct answer: ['Sulfur', 16]\n",
      "\n",
      "Question 2:\n"
     ]
    },
    {
     "name": "stdin",
     "output_type": "stream",
     "text": [
      "What is the symbol for the element 'Aluminum'?  ih\n"
     ]
    },
    {
     "name": "stdout",
     "output_type": "stream",
     "text": [
      "❌ Incorrect. Correct answer: ['Aluminum', 13]\n",
      "\n",
      "Question 3:\n"
     ]
    },
    {
     "name": "stdin",
     "output_type": "stream",
     "text": [
      "What is the atomic number of 'Hydrogen'?  8\n"
     ]
    },
    {
     "name": "stdout",
     "output_type": "stream",
     "text": [
      "❌ Incorrect. Correct answer: ['Hydrogen', 1]\n",
      "\n",
      "Question 4:\n"
     ]
    },
    {
     "name": "stdin",
     "output_type": "stream",
     "text": [
      "What is the name of the element with symbol 'Ar'?  argon\n"
     ]
    },
    {
     "name": "stdout",
     "output_type": "stream",
     "text": [
      "✅ Correct!\n",
      "\n",
      "Question 5:\n"
     ]
    },
    {
     "name": "stdin",
     "output_type": "stream",
     "text": [
      "What is the atomic number of 'Sodium'?  12\n"
     ]
    },
    {
     "name": "stdout",
     "output_type": "stream",
     "text": [
      "❌ Incorrect. Correct answer: ['Sodium', 11]\n",
      "\n",
      "Question 6:\n"
     ]
    },
    {
     "name": "stdin",
     "output_type": "stream",
     "text": [
      "What is the name of the element with symbol 'K'?  potassium \n"
     ]
    },
    {
     "name": "stdout",
     "output_type": "stream",
     "text": [
      "✅ Correct!\n",
      "\n",
      "Question 7:\n"
     ]
    },
    {
     "name": "stdin",
     "output_type": "stream",
     "text": [
      "What is the symbol for the element 'Neon'?  ne\n"
     ]
    },
    {
     "name": "stdout",
     "output_type": "stream",
     "text": [
      "✅ Correct!\n",
      "\n",
      "Question 8:\n"
     ]
    },
    {
     "name": "stdin",
     "output_type": "stream",
     "text": [
      "What is the name of the element with symbol 'B'?  bromen\n"
     ]
    },
    {
     "name": "stdout",
     "output_type": "stream",
     "text": [
      "❌ Incorrect. Correct answer: ['Boron', 5]\n",
      "\n",
      "Question 9:\n"
     ]
    },
    {
     "name": "stdin",
     "output_type": "stream",
     "text": [
      "What is the atomic number of 'Chlorine'?  cl\n"
     ]
    },
    {
     "name": "stdout",
     "output_type": "stream",
     "text": [
      "❌ Incorrect. Correct answer: ['Chlorine', 17]\n",
      "\n",
      "Question 10:\n"
     ]
    },
    {
     "name": "stdin",
     "output_type": "stream",
     "text": [
      "What is the name of the element with symbol 'He'?  helium \n"
     ]
    },
    {
     "name": "stdout",
     "output_type": "stream",
     "text": [
      "✅ Correct!\n",
      "\n",
      "🧪 Quiz Completed!\n",
      "Your score: 4 out of 10\n"
     ]
    }
   ],
   "source": [
    " #Start the quiz\n",
    "start_quiz()"
   ]
  },
  {
   "cell_type": "code",
   "execution_count": null,
   "metadata": {},
   "outputs": [],
   "source": []
  }
 ],
 "metadata": {
  "kernelspec": {
   "display_name": "Python 3 (ipykernel)",
   "language": "python",
   "name": "python3"
  },
  "language_info": {
   "codemirror_mode": {
    "name": "ipython",
    "version": 3
   },
   "file_extension": ".py",
   "mimetype": "text/x-python",
   "name": "python",
   "nbconvert_exporter": "python",
   "pygments_lexer": "ipython3",
   "version": "3.11.7"
  }
 },
 "nbformat": 4,
 "nbformat_minor": 4
}
